{
 "cells": [
  {
   "cell_type": "markdown",
   "id": "61bd3859-afba-40e9-8ac9-37583b7c9c6b",
   "metadata": {},
   "source": [
    "# Extract MP3 and MP4 from youtube videos with pytube"
   ]
  },
  {
   "cell_type": "code",
   "execution_count": 1,
   "id": "935ccb04-6e93-45e1-aeab-1a53e13379a9",
   "metadata": {},
   "outputs": [],
   "source": [
    "%load_ext lab_black"
   ]
  },
  {
   "cell_type": "code",
   "execution_count": 2,
   "id": "320ef88d-98a1-4819-bb0b-d7106e029131",
   "metadata": {},
   "outputs": [],
   "source": [
    "from pytube import YouTube\n",
    "from pathlib import Path\n",
    "from tqdm import tqdm"
   ]
  },
  {
   "cell_type": "code",
   "execution_count": 3,
   "id": "a94af979-14ed-4148-8eb5-0a007b3e1cf7",
   "metadata": {},
   "outputs": [],
   "source": [
    "# Example: Blackpink songs for my daughter\n",
    "urls = [\n",
    "    \"https://youtu.be/POe9SOEKotk\",\n",
    "    \"https://youtu.be/2S24-y0Ij3Y\",\n",
    "    \"https://youtu.be/gQlMMD8auMs\",\n",
    "    \"https://youtu.be/bwmSjveL3Lc\",\n",
    "]"
   ]
  },
  {
   "cell_type": "code",
   "execution_count": 4,
   "id": "35901b48-4861-4469-b929-4cd6dfe89e72",
   "metadata": {},
   "outputs": [],
   "source": [
    "def url_to_mp4(url, output_path=\"./MP4\"):\n",
    "    YouTube(url).streams.filter(file_extension=\"mp4\").first().download(output_path)"
   ]
  },
  {
   "cell_type": "code",
   "execution_count": 5,
   "id": "48e43983-0536-4698-863a-b93b0a96d8d6",
   "metadata": {},
   "outputs": [],
   "source": [
    "def url_to_mp3(url, output_path=\"./MP3\"):\n",
    "    audio = YouTube(url).streams.filter(only_audio=True).first()\n",
    "    out_file = Path(audio.download(output_path=output_path))\n",
    "    out_file.rename(out_file.with_suffix(\".mp3\"))"
   ]
  },
  {
   "cell_type": "code",
   "execution_count": 6,
   "id": "753ea674-92f0-495e-b6b9-6d724bd8aa84",
   "metadata": {},
   "outputs": [],
   "source": [
    "def download_list(urls, mp4=True, mp3=True):\n",
    "    for url in tqdm(urls):\n",
    "        if mp4:\n",
    "            url_to_mp4(url)\n",
    "        if mp3:\n",
    "            url_to_mp3(url)"
   ]
  },
  {
   "cell_type": "code",
   "execution_count": 7,
   "id": "2abcbc5e-fa99-404c-a212-f1b1dcc2f4d0",
   "metadata": {},
   "outputs": [
    {
     "name": "stderr",
     "output_type": "stream",
     "text": [
      "100%|████████████████████████████████████████████████████████████████████████████████████| 4/4 [02:00<00:00, 30.19s/it]\n"
     ]
    }
   ],
   "source": [
    "download_list(urls, mp4=False, mp3=True)"
   ]
  }
 ],
 "metadata": {
  "kernelspec": {
   "display_name": "Python [conda env:pytube]",
   "language": "python",
   "name": "conda-env-pytube-py"
  },
  "language_info": {
   "codemirror_mode": {
    "name": "ipython",
    "version": 3
   },
   "file_extension": ".py",
   "mimetype": "text/x-python",
   "name": "python",
   "nbconvert_exporter": "python",
   "pygments_lexer": "ipython3",
   "version": "3.10.4"
  }
 },
 "nbformat": 4,
 "nbformat_minor": 5
}
