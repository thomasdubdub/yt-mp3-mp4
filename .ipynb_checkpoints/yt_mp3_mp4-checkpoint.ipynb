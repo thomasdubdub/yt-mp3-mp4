{
 "cells": [
  {
   "cell_type": "markdown",
   "id": "61bd3859-afba-40e9-8ac9-37583b7c9c6b",
   "metadata": {},
   "source": [
    "# Extract MP3 and MP4 from youtube videos with pytube"
   ]
  },
  {
   "cell_type": "code",
   "execution_count": 1,
   "id": "935ccb04-6e93-45e1-aeab-1a53e13379a9",
   "metadata": {},
   "outputs": [],
   "source": [
    "%load_ext lab_black"
   ]
  },
  {
   "cell_type": "code",
   "execution_count": 10,
   "id": "320ef88d-98a1-4819-bb0b-d7106e029131",
   "metadata": {},
   "outputs": [],
   "source": [
    "from pathlib import Path\n",
    "from tqdm import tqdm\n",
    "from pytube import YouTube\n",
    "from pydub import AudioSegment"
   ]
  },
  {
   "cell_type": "code",
   "execution_count": 11,
   "id": "a94af979-14ed-4148-8eb5-0a007b3e1cf7",
   "metadata": {},
   "outputs": [],
   "source": [
    "# Example: Blackpink songs for my daughter\n",
    "urls = [\n",
    "    \"https://youtu.be/POe9SOEKotk\",\n",
    "    \"https://youtu.be/2S24-y0Ij3Y\",\n",
    "    \"https://youtu.be/gQlMMD8auMs\",\n",
    "    \"https://youtu.be/bwmSjveL3Lc\",\n",
    "]"
   ]
  },
  {
   "cell_type": "code",
   "execution_count": 12,
   "id": "35901b48-4861-4469-b929-4cd6dfe89e72",
   "metadata": {},
   "outputs": [],
   "source": [
    "def url_to_mp4(url, output_path=\"./MP4\"):\n",
    "    YouTube(url).streams.filter(file_extension=\"mp4\").first().download(output_path)"
   ]
  },
  {
   "cell_type": "code",
   "execution_count": 27,
   "id": "2fcec38a-9d1d-4a63-b9d5-3ff49732a62d",
   "metadata": {},
   "outputs": [],
   "source": [
    "def url_to_mp3(url, output_path=\"./MP3\", bitrate=\"192k\"):\n",
    "    target_filetype = \"mp3\"\n",
    "    video = YouTube(url).streams.filter(only_audio=True).first()\n",
    "    out_file = video.download(output_path)\n",
    "    original_extension = Path(out_file).suffix[1:]\n",
    "    mp3_converted_file = AudioSegment.from_file(out_file, original_extension)\n",
    "    new_path = out_file[:-3] + target_filetype\n",
    "    mp3_converted_file.export(new_path, format=target_filetype, bitrate=bitrate)\n",
    "    Path(out_file).unlink()"
   ]
  },
  {
   "cell_type": "code",
   "execution_count": 14,
   "id": "753ea674-92f0-495e-b6b9-6d724bd8aa84",
   "metadata": {},
   "outputs": [],
   "source": [
    "def download_list(urls, mp4=True, mp3=True):\n",
    "    for url in tqdm(urls):\n",
    "        if mp4:\n",
    "            url_to_mp4(url)\n",
    "        if mp3:\n",
    "            url_to_mp3(url)"
   ]
  },
  {
   "cell_type": "code",
   "execution_count": 28,
   "id": "2abcbc5e-fa99-404c-a212-f1b1dcc2f4d0",
   "metadata": {},
   "outputs": [
    {
     "name": "stderr",
     "output_type": "stream",
     "text": [
      "100%|████████████████████████████████████████████████████████████████████████████████████| 3/3 [00:07<00:00,  2.59s/it]\n"
     ]
    }
   ],
   "source": [
    "download_list(urls, mp4=False, mp3=True)"
   ]
  },
  {
   "cell_type": "code",
   "execution_count": null,
   "id": "441502de-12c1-471e-a1e6-63436781dbb4",
   "metadata": {},
   "outputs": [],
   "source": []
  }
 ],
 "metadata": {
  "kernelspec": {
   "display_name": "Python [conda env:pytube]",
   "language": "python",
   "name": "conda-env-pytube-py"
  },
  "language_info": {
   "codemirror_mode": {
    "name": "ipython",
    "version": 3
   },
   "file_extension": ".py",
   "mimetype": "text/x-python",
   "name": "python",
   "nbconvert_exporter": "python",
   "pygments_lexer": "ipython3",
   "version": "3.10.4"
  }
 },
 "nbformat": 4,
 "nbformat_minor": 5
}
